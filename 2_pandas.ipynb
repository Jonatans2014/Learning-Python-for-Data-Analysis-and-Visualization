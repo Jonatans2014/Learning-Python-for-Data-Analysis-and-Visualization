{
 "metadata": {
  "name": "",
  "signature": "sha256:bfe2dc223dabda879dc3a607e501c939086ae1e68fd306a5d3a66b156188a6a7"
 },
 "nbformat": 3,
 "nbformat_minor": 0,
 "worksheets": [
  {
   "cells": [
    {
     "cell_type": "heading",
     "level": 1,
     "metadata": {},
     "source": [
      "Pandas"
     ]
    },
    {
     "cell_type": "code",
     "collapsed": false,
     "input": [
      "import pandas as pd\n",
      "import numpy as np\n",
      "from pandas import Series, DataFrame"
     ],
     "language": "python",
     "metadata": {},
     "outputs": [],
     "prompt_number": 1
    },
    {
     "cell_type": "code",
     "collapsed": false,
     "input": [
      "obj = Series([3,6,9,12])\n",
      "obj"
     ],
     "language": "python",
     "metadata": {},
     "outputs": [
      {
       "metadata": {},
       "output_type": "pyout",
       "prompt_number": 2,
       "text": [
        "0     3\n",
        "1     6\n",
        "2     9\n",
        "3    12\n",
        "dtype: int64"
       ]
      }
     ],
     "prompt_number": 2
    },
    {
     "cell_type": "code",
     "collapsed": false,
     "input": [
      "obj.values"
     ],
     "language": "python",
     "metadata": {},
     "outputs": [
      {
       "metadata": {},
       "output_type": "pyout",
       "prompt_number": 3,
       "text": [
        "array([ 3,  6,  9, 12], dtype=int64)"
       ]
      }
     ],
     "prompt_number": 3
    },
    {
     "cell_type": "code",
     "collapsed": false,
     "input": [
      "obj.index"
     ],
     "language": "python",
     "metadata": {},
     "outputs": [
      {
       "metadata": {},
       "output_type": "pyout",
       "prompt_number": 5,
       "text": [
        "Int64Index([0, 1, 2, 3], dtype='int64')"
       ]
      }
     ],
     "prompt_number": 5
    },
    {
     "cell_type": "code",
     "collapsed": false,
     "input": [
      "ww2_cas = Series([8700000,4200000,3000000,2100000,400000],index=['USSR','Germain','China','Japan','USA'])\n",
      "ww2_cas"
     ],
     "language": "python",
     "metadata": {},
     "outputs": [
      {
       "metadata": {},
       "output_type": "pyout",
       "prompt_number": 7,
       "text": [
        "USSR       8700000\n",
        "Germain    4200000\n",
        "China      3000000\n",
        "Japan      2100000\n",
        "USA         400000\n",
        "dtype: int64"
       ]
      }
     ],
     "prompt_number": 7
    },
    {
     "cell_type": "code",
     "collapsed": false,
     "input": [
      "ww2_cas['USA']"
     ],
     "language": "python",
     "metadata": {},
     "outputs": [
      {
       "metadata": {},
       "output_type": "pyout",
       "prompt_number": 8,
       "text": [
        "400000"
       ]
      }
     ],
     "prompt_number": 8
    },
    {
     "cell_type": "code",
     "collapsed": false,
     "input": [
      "#cechk with country has cas greater than 4 mil\n",
      "ww2_cas[ww2_cas> 4000000]"
     ],
     "language": "python",
     "metadata": {},
     "outputs": [
      {
       "metadata": {},
       "output_type": "pyout",
       "prompt_number": 10,
       "text": [
        "USSR       8700000\n",
        "Germain    4200000\n",
        "dtype: int64"
       ]
      }
     ],
     "prompt_number": 10
    },
    {
     "cell_type": "code",
     "collapsed": false,
     "input": [
      "'USSR' in ww2_cas"
     ],
     "language": "python",
     "metadata": {},
     "outputs": [
      {
       "metadata": {},
       "output_type": "pyout",
       "prompt_number": 11,
       "text": [
        "True"
       ]
      }
     ],
     "prompt_number": 11
    },
    {
     "cell_type": "code",
     "collapsed": false,
     "input": [
      "ww2_dict=ww2_cas.to_dict()\n",
      "ww2_dict"
     ],
     "language": "python",
     "metadata": {},
     "outputs": [
      {
       "metadata": {},
       "output_type": "pyout",
       "prompt_number": 12,
       "text": [
        "{'China': 3000000,\n",
        " 'Germain': 4200000,\n",
        " 'Japan': 2100000,\n",
        " 'USA': 400000,\n",
        " 'USSR': 8700000}"
       ]
      }
     ],
     "prompt_number": 12
    },
    {
     "cell_type": "code",
     "collapsed": false,
     "input": [
      "ww2_s = Series(ww2_dict)\n",
      "ww2_s"
     ],
     "language": "python",
     "metadata": {},
     "outputs": [
      {
       "metadata": {},
       "output_type": "pyout",
       "prompt_number": 13,
       "text": [
        "China      3000000\n",
        "Germain    4200000\n",
        "Japan      2100000\n",
        "USA         400000\n",
        "USSR       8700000\n",
        "dtype: int64"
       ]
      }
     ],
     "prompt_number": 13
    },
    {
     "cell_type": "code",
     "collapsed": false,
     "input": [
      "countries = ['China','Germain','Japan','USA','USSR','Argentina']\n",
      "obj2 = Series(ww2_dict,index=countries)\n",
      "obj2"
     ],
     "language": "python",
     "metadata": {},
     "outputs": [
      {
       "metadata": {},
       "output_type": "pyout",
       "prompt_number": 19,
       "text": [
        "China        3000000\n",
        "Germain      4200000\n",
        "Japan        2100000\n",
        "USA           400000\n",
        "USSR         8700000\n",
        "Argentina        NaN\n",
        "dtype: float64"
       ]
      }
     ],
     "prompt_number": 19
    },
    {
     "cell_type": "code",
     "collapsed": false,
     "input": [
      "pd.isnull(obj2)"
     ],
     "language": "python",
     "metadata": {},
     "outputs": [
      {
       "metadata": {},
       "output_type": "pyout",
       "prompt_number": 20,
       "text": [
        "China        False\n",
        "Germain      False\n",
        "Japan        False\n",
        "USA          False\n",
        "USSR         False\n",
        "Argentina     True\n",
        "dtype: bool"
       ]
      }
     ],
     "prompt_number": 20
    },
    {
     "cell_type": "code",
     "collapsed": false,
     "input": [
      "ww2_s + obj2"
     ],
     "language": "python",
     "metadata": {},
     "outputs": [
      {
       "metadata": {},
       "output_type": "pyout",
       "prompt_number": 23,
       "text": [
        "Argentina         NaN\n",
        "China         6000000\n",
        "Germain       8400000\n",
        "Japan         4200000\n",
        "USA            800000\n",
        "USSR         17400000\n",
        "dtype: float64"
       ]
      }
     ],
     "prompt_number": 23
    },
    {
     "cell_type": "code",
     "collapsed": false,
     "input": [
      "obj2.name = \"WW 2 casualties\"\n",
      "obj2"
     ],
     "language": "python",
     "metadata": {},
     "outputs": [
      {
       "metadata": {},
       "output_type": "pyout",
       "prompt_number": 27,
       "text": [
        "China        3000000\n",
        "Germain      4200000\n",
        "Japan        2100000\n",
        "USA           400000\n",
        "USSR         8700000\n",
        "Argentina        NaN\n",
        "Name: WW 2 casualties, dtype: float64"
       ]
      }
     ],
     "prompt_number": 27
    },
    {
     "cell_type": "code",
     "collapsed": false,
     "input": [
      "obj2.index.name=\"countries\"\n",
      "obj2"
     ],
     "language": "python",
     "metadata": {},
     "outputs": [
      {
       "metadata": {},
       "output_type": "pyout",
       "prompt_number": 29,
       "text": [
        "countries\n",
        "China        3000000\n",
        "Germain      4200000\n",
        "Japan        2100000\n",
        "USA           400000\n",
        "USSR         8700000\n",
        "Argentina        NaN\n",
        "Name: WW 2 casualties, dtype: float64"
       ]
      }
     ],
     "prompt_number": 29
    },
    {
     "cell_type": "markdown",
     "metadata": {},
     "source": [
      "#Lecture 2"
     ]
    },
    {
     "cell_type": "code",
     "collapsed": false,
     "input": [
      "import webbrowser\n",
      "website = \"http://en.wikipedia.org/wiki/NFL_win-loss_records\"\n",
      "webbrowser.open(website)\n",
      "#copy from the browser"
     ],
     "language": "python",
     "metadata": {},
     "outputs": [
      {
       "metadata": {},
       "output_type": "pyout",
       "prompt_number": 30,
       "text": [
        "True"
       ]
      }
     ],
     "prompt_number": 30
    },
    {
     "cell_type": "code",
     "collapsed": false,
     "input": [
      "nfl=pd.read_clipboard()\n",
      "nfl"
     ],
     "language": "python",
     "metadata": {},
     "outputs": [
      {
       "html": [
        "<div style=\"max-height:1000px;max-width:1500px;overflow:auto;\">\n",
        "<table border=\"1\" class=\"dataframe\">\n",
        "  <thead>\n",
        "    <tr style=\"text-align: right;\">\n",
        "      <th></th>\n",
        "      <th>Rank</th>\n",
        "      <th>Team</th>\n",
        "      <th>Won</th>\n",
        "      <th>Lost</th>\n",
        "      <th>Tied*</th>\n",
        "      <th>Pct.</th>\n",
        "      <th>First Season</th>\n",
        "      <th>Total Games</th>\n",
        "      <th>Conference</th>\n",
        "    </tr>\n",
        "  </thead>\n",
        "  <tbody>\n",
        "    <tr>\n",
        "      <th>0</th>\n",
        "      <td> 1</td>\n",
        "      <td>    Dallas Cowboys</td>\n",
        "      <td> 510</td>\n",
        "      <td> 378</td>\n",
        "      <td>  6</td>\n",
        "      <td> 0.574</td>\n",
        "      <td> 1960</td>\n",
        "      <td>  894</td>\n",
        "      <td>  NFC East</td>\n",
        "    </tr>\n",
        "    <tr>\n",
        "      <th>1</th>\n",
        "      <td> 2</td>\n",
        "      <td>     Chicago Bears</td>\n",
        "      <td> 752</td>\n",
        "      <td> 563</td>\n",
        "      <td> 42</td>\n",
        "      <td> 0.570</td>\n",
        "      <td> 1920</td>\n",
        "      <td> 1357</td>\n",
        "      <td> NFC North</td>\n",
        "    </tr>\n",
        "    <tr>\n",
        "      <th>2</th>\n",
        "      <td> 3</td>\n",
        "      <td> Green Bay Packers</td>\n",
        "      <td> 741</td>\n",
        "      <td> 561</td>\n",
        "      <td> 37</td>\n",
        "      <td> 0.567</td>\n",
        "      <td> 1921</td>\n",
        "      <td> 1339</td>\n",
        "      <td> NFC North</td>\n",
        "    </tr>\n",
        "    <tr>\n",
        "      <th>3</th>\n",
        "      <td> 4</td>\n",
        "      <td>    Miami Dolphins</td>\n",
        "      <td> 443</td>\n",
        "      <td> 345</td>\n",
        "      <td>  4</td>\n",
        "      <td> 0.562</td>\n",
        "      <td> 1966</td>\n",
        "      <td>  792</td>\n",
        "      <td>  AFC East</td>\n",
        "    </tr>\n",
        "  </tbody>\n",
        "</table>\n",
        "</div>"
       ],
       "metadata": {},
       "output_type": "pyout",
       "prompt_number": 32,
       "text": [
        "   Rank               Team  Won  Lost  Tied*   Pct.  First Season  \\\n",
        "0     1     Dallas Cowboys  510   378      6  0.574          1960   \n",
        "1     2      Chicago Bears  752   563     42  0.570          1920   \n",
        "2     3  Green Bay Packers  741   561     37  0.567          1921   \n",
        "3     4     Miami Dolphins  443   345      4  0.562          1966   \n",
        "\n",
        "   Total Games Conference  \n",
        "0          894   NFC East  \n",
        "1         1357  NFC North  \n",
        "2         1339  NFC North  \n",
        "3          792   AFC East  "
       ]
      }
     ],
     "prompt_number": 32
    },
    {
     "cell_type": "code",
     "collapsed": false,
     "input": [
      "nfl.columns"
     ],
     "language": "python",
     "metadata": {},
     "outputs": [
      {
       "metadata": {},
       "output_type": "pyout",
       "prompt_number": 33,
       "text": [
        "Index([u'Rank', u'Team', u'Won', u'Lost', u'Tied*', u'Pct.', u'First Season', u'Total Games', u'Conference'], dtype='object')"
       ]
      }
     ],
     "prompt_number": 33
    },
    {
     "cell_type": "code",
     "collapsed": false,
     "input": [
      "nfl.Rank"
     ],
     "language": "python",
     "metadata": {},
     "outputs": [
      {
       "metadata": {},
       "output_type": "pyout",
       "prompt_number": 34,
       "text": [
        "0    1\n",
        "1    2\n",
        "2    3\n",
        "3    4\n",
        "Name: Rank, dtype: int64"
       ]
      }
     ],
     "prompt_number": 34
    },
    {
     "cell_type": "code",
     "collapsed": false,
     "input": [
      "nfl['First Season']"
     ],
     "language": "python",
     "metadata": {},
     "outputs": [
      {
       "metadata": {},
       "output_type": "pyout",
       "prompt_number": 35,
       "text": [
        "0    1960\n",
        "1    1920\n",
        "2    1921\n",
        "3    1966\n",
        "Name: First Season, dtype: int64"
       ]
      }
     ],
     "prompt_number": 35
    },
    {
     "cell_type": "code",
     "collapsed": false,
     "input": [
      "DataFrame(nfl,columns=['Team','First Season','Total Games'])"
     ],
     "language": "python",
     "metadata": {},
     "outputs": [
      {
       "html": [
        "<div style=\"max-height:1000px;max-width:1500px;overflow:auto;\">\n",
        "<table border=\"1\" class=\"dataframe\">\n",
        "  <thead>\n",
        "    <tr style=\"text-align: right;\">\n",
        "      <th></th>\n",
        "      <th>Team</th>\n",
        "      <th>First Season</th>\n",
        "      <th>Total Games</th>\n",
        "    </tr>\n",
        "  </thead>\n",
        "  <tbody>\n",
        "    <tr>\n",
        "      <th>0</th>\n",
        "      <td>    Dallas Cowboys</td>\n",
        "      <td> 1960</td>\n",
        "      <td>  894</td>\n",
        "    </tr>\n",
        "    <tr>\n",
        "      <th>1</th>\n",
        "      <td>     Chicago Bears</td>\n",
        "      <td> 1920</td>\n",
        "      <td> 1357</td>\n",
        "    </tr>\n",
        "    <tr>\n",
        "      <th>2</th>\n",
        "      <td> Green Bay Packers</td>\n",
        "      <td> 1921</td>\n",
        "      <td> 1339</td>\n",
        "    </tr>\n",
        "    <tr>\n",
        "      <th>3</th>\n",
        "      <td>    Miami Dolphins</td>\n",
        "      <td> 1966</td>\n",
        "      <td>  792</td>\n",
        "    </tr>\n",
        "  </tbody>\n",
        "</table>\n",
        "</div>"
       ],
       "metadata": {},
       "output_type": "pyout",
       "prompt_number": 37,
       "text": [
        "                Team  First Season  Total Games\n",
        "0     Dallas Cowboys          1960          894\n",
        "1      Chicago Bears          1920         1357\n",
        "2  Green Bay Packers          1921         1339\n",
        "3     Miami Dolphins          1966          792"
       ]
      }
     ],
     "prompt_number": 37
    },
    {
     "cell_type": "code",
     "collapsed": false,
     "input": [
      "DataFrame(nfl,columns=['Team','First Season','Total Games','Stadium'])"
     ],
     "language": "python",
     "metadata": {},
     "outputs": [
      {
       "html": [
        "<div style=\"max-height:1000px;max-width:1500px;overflow:auto;\">\n",
        "<table border=\"1\" class=\"dataframe\">\n",
        "  <thead>\n",
        "    <tr style=\"text-align: right;\">\n",
        "      <th></th>\n",
        "      <th>Team</th>\n",
        "      <th>First Season</th>\n",
        "      <th>Total Games</th>\n",
        "      <th>Stadium</th>\n",
        "    </tr>\n",
        "  </thead>\n",
        "  <tbody>\n",
        "    <tr>\n",
        "      <th>0</th>\n",
        "      <td>    Dallas Cowboys</td>\n",
        "      <td> 1960</td>\n",
        "      <td>  894</td>\n",
        "      <td>NaN</td>\n",
        "    </tr>\n",
        "    <tr>\n",
        "      <th>1</th>\n",
        "      <td>     Chicago Bears</td>\n",
        "      <td> 1920</td>\n",
        "      <td> 1357</td>\n",
        "      <td>NaN</td>\n",
        "    </tr>\n",
        "    <tr>\n",
        "      <th>2</th>\n",
        "      <td> Green Bay Packers</td>\n",
        "      <td> 1921</td>\n",
        "      <td> 1339</td>\n",
        "      <td>NaN</td>\n",
        "    </tr>\n",
        "    <tr>\n",
        "      <th>3</th>\n",
        "      <td>    Miami Dolphins</td>\n",
        "      <td> 1966</td>\n",
        "      <td>  792</td>\n",
        "      <td>NaN</td>\n",
        "    </tr>\n",
        "  </tbody>\n",
        "</table>\n",
        "</div>"
       ],
       "metadata": {},
       "output_type": "pyout",
       "prompt_number": 38,
       "text": [
        "                Team  First Season  Total Games  Stadium\n",
        "0     Dallas Cowboys          1960          894      NaN\n",
        "1      Chicago Bears          1920         1357      NaN\n",
        "2  Green Bay Packers          1921         1339      NaN\n",
        "3     Miami Dolphins          1966          792      NaN"
       ]
      }
     ],
     "prompt_number": 38
    },
    {
     "cell_type": "code",
     "collapsed": false,
     "input": [
      "nfl.head(2)"
     ],
     "language": "python",
     "metadata": {},
     "outputs": [
      {
       "html": [
        "<div style=\"max-height:1000px;max-width:1500px;overflow:auto;\">\n",
        "<table border=\"1\" class=\"dataframe\">\n",
        "  <thead>\n",
        "    <tr style=\"text-align: right;\">\n",
        "      <th></th>\n",
        "      <th>Rank</th>\n",
        "      <th>Team</th>\n",
        "      <th>Won</th>\n",
        "      <th>Lost</th>\n",
        "      <th>Tied*</th>\n",
        "      <th>Pct.</th>\n",
        "      <th>First Season</th>\n",
        "      <th>Total Games</th>\n",
        "      <th>Conference</th>\n",
        "    </tr>\n",
        "  </thead>\n",
        "  <tbody>\n",
        "    <tr>\n",
        "      <th>0</th>\n",
        "      <td> 1</td>\n",
        "      <td> Dallas Cowboys</td>\n",
        "      <td> 510</td>\n",
        "      <td> 378</td>\n",
        "      <td>  6</td>\n",
        "      <td> 0.574</td>\n",
        "      <td> 1960</td>\n",
        "      <td>  894</td>\n",
        "      <td>  NFC East</td>\n",
        "    </tr>\n",
        "    <tr>\n",
        "      <th>1</th>\n",
        "      <td> 2</td>\n",
        "      <td>  Chicago Bears</td>\n",
        "      <td> 752</td>\n",
        "      <td> 563</td>\n",
        "      <td> 42</td>\n",
        "      <td> 0.570</td>\n",
        "      <td> 1920</td>\n",
        "      <td> 1357</td>\n",
        "      <td> NFC North</td>\n",
        "    </tr>\n",
        "  </tbody>\n",
        "</table>\n",
        "</div>"
       ],
       "metadata": {},
       "output_type": "pyout",
       "prompt_number": 40,
       "text": [
        "   Rank            Team  Won  Lost  Tied*   Pct.  First Season  Total Games  \\\n",
        "0     1  Dallas Cowboys  510   378      6  0.574          1960          894   \n",
        "1     2   Chicago Bears  752   563     42  0.570          1920         1357   \n",
        "\n",
        "  Conference  \n",
        "0   NFC East  \n",
        "1  NFC North  "
       ]
      }
     ],
     "prompt_number": 40
    },
    {
     "cell_type": "code",
     "collapsed": false,
     "input": [
      "nfl.tail(2)"
     ],
     "language": "python",
     "metadata": {},
     "outputs": [
      {
       "html": [
        "<div style=\"max-height:1000px;max-width:1500px;overflow:auto;\">\n",
        "<table border=\"1\" class=\"dataframe\">\n",
        "  <thead>\n",
        "    <tr style=\"text-align: right;\">\n",
        "      <th></th>\n",
        "      <th>Rank</th>\n",
        "      <th>Team</th>\n",
        "      <th>Won</th>\n",
        "      <th>Lost</th>\n",
        "      <th>Tied*</th>\n",
        "      <th>Pct.</th>\n",
        "      <th>First Season</th>\n",
        "      <th>Total Games</th>\n",
        "      <th>Conference</th>\n",
        "    </tr>\n",
        "  </thead>\n",
        "  <tbody>\n",
        "    <tr>\n",
        "      <th>2</th>\n",
        "      <td> 3</td>\n",
        "      <td> Green Bay Packers</td>\n",
        "      <td> 741</td>\n",
        "      <td> 561</td>\n",
        "      <td> 37</td>\n",
        "      <td> 0.567</td>\n",
        "      <td> 1921</td>\n",
        "      <td> 1339</td>\n",
        "      <td> NFC North</td>\n",
        "    </tr>\n",
        "    <tr>\n",
        "      <th>3</th>\n",
        "      <td> 4</td>\n",
        "      <td>    Miami Dolphins</td>\n",
        "      <td> 443</td>\n",
        "      <td> 345</td>\n",
        "      <td>  4</td>\n",
        "      <td> 0.562</td>\n",
        "      <td> 1966</td>\n",
        "      <td>  792</td>\n",
        "      <td>  AFC East</td>\n",
        "    </tr>\n",
        "  </tbody>\n",
        "</table>\n",
        "</div>"
       ],
       "metadata": {},
       "output_type": "pyout",
       "prompt_number": 41,
       "text": [
        "   Rank               Team  Won  Lost  Tied*   Pct.  First Season  \\\n",
        "2     3  Green Bay Packers  741   561     37  0.567          1921   \n",
        "3     4     Miami Dolphins  443   345      4  0.562          1966   \n",
        "\n",
        "   Total Games Conference  \n",
        "2         1339  NFC North  \n",
        "3          792   AFC East  "
       ]
      }
     ],
     "prompt_number": 41
    },
    {
     "cell_type": "code",
     "collapsed": false,
     "input": [
      "nfl.ix[3]"
     ],
     "language": "python",
     "metadata": {},
     "outputs": [
      {
       "metadata": {},
       "output_type": "pyout",
       "prompt_number": 42,
       "text": [
        "Rank                         4\n",
        "Team            Miami Dolphins\n",
        "Won                        443\n",
        "Lost                       345\n",
        "Tied*                        4\n",
        "Pct.                     0.562\n",
        "First Season              1966\n",
        "Total Games                792\n",
        "Conference            AFC East\n",
        "Name: 3, dtype: object"
       ]
      }
     ],
     "prompt_number": 42
    },
    {
     "cell_type": "code",
     "collapsed": false,
     "input": [
      "nfl['Stadium'] = \"Levis's stadium\"\n",
      "nfl"
     ],
     "language": "python",
     "metadata": {},
     "outputs": [
      {
       "html": [
        "<div style=\"max-height:1000px;max-width:1500px;overflow:auto;\">\n",
        "<table border=\"1\" class=\"dataframe\">\n",
        "  <thead>\n",
        "    <tr style=\"text-align: right;\">\n",
        "      <th></th>\n",
        "      <th>Rank</th>\n",
        "      <th>Team</th>\n",
        "      <th>Won</th>\n",
        "      <th>Lost</th>\n",
        "      <th>Tied*</th>\n",
        "      <th>Pct.</th>\n",
        "      <th>First Season</th>\n",
        "      <th>Total Games</th>\n",
        "      <th>Conference</th>\n",
        "      <th>Stadium</th>\n",
        "    </tr>\n",
        "  </thead>\n",
        "  <tbody>\n",
        "    <tr>\n",
        "      <th>0</th>\n",
        "      <td> 1</td>\n",
        "      <td>    Dallas Cowboys</td>\n",
        "      <td> 510</td>\n",
        "      <td> 378</td>\n",
        "      <td>  6</td>\n",
        "      <td> 0.574</td>\n",
        "      <td> 1960</td>\n",
        "      <td>  894</td>\n",
        "      <td>  NFC East</td>\n",
        "      <td> Levis's stadium</td>\n",
        "    </tr>\n",
        "    <tr>\n",
        "      <th>1</th>\n",
        "      <td> 2</td>\n",
        "      <td>     Chicago Bears</td>\n",
        "      <td> 752</td>\n",
        "      <td> 563</td>\n",
        "      <td> 42</td>\n",
        "      <td> 0.570</td>\n",
        "      <td> 1920</td>\n",
        "      <td> 1357</td>\n",
        "      <td> NFC North</td>\n",
        "      <td> Levis's stadium</td>\n",
        "    </tr>\n",
        "    <tr>\n",
        "      <th>2</th>\n",
        "      <td> 3</td>\n",
        "      <td> Green Bay Packers</td>\n",
        "      <td> 741</td>\n",
        "      <td> 561</td>\n",
        "      <td> 37</td>\n",
        "      <td> 0.567</td>\n",
        "      <td> 1921</td>\n",
        "      <td> 1339</td>\n",
        "      <td> NFC North</td>\n",
        "      <td> Levis's stadium</td>\n",
        "    </tr>\n",
        "    <tr>\n",
        "      <th>3</th>\n",
        "      <td> 4</td>\n",
        "      <td>    Miami Dolphins</td>\n",
        "      <td> 443</td>\n",
        "      <td> 345</td>\n",
        "      <td>  4</td>\n",
        "      <td> 0.562</td>\n",
        "      <td> 1966</td>\n",
        "      <td>  792</td>\n",
        "      <td>  AFC East</td>\n",
        "      <td> Levis's stadium</td>\n",
        "    </tr>\n",
        "  </tbody>\n",
        "</table>\n",
        "</div>"
       ],
       "metadata": {},
       "output_type": "pyout",
       "prompt_number": 43,
       "text": [
        "   Rank               Team  Won  Lost  Tied*   Pct.  First Season  \\\n",
        "0     1     Dallas Cowboys  510   378      6  0.574          1960   \n",
        "1     2      Chicago Bears  752   563     42  0.570          1920   \n",
        "2     3  Green Bay Packers  741   561     37  0.567          1921   \n",
        "3     4     Miami Dolphins  443   345      4  0.562          1966   \n",
        "\n",
        "   Total Games Conference          Stadium  \n",
        "0          894   NFC East  Levis's stadium  \n",
        "1         1357  NFC North  Levis's stadium  \n",
        "2         1339  NFC North  Levis's stadium  \n",
        "3          792   AFC East  Levis's stadium  "
       ]
      }
     ],
     "prompt_number": 43
    },
    {
     "cell_type": "code",
     "collapsed": false,
     "input": [
      "nfl['Stadium'] = np.arange(4)\n",
      "nfl"
     ],
     "language": "python",
     "metadata": {},
     "outputs": [
      {
       "html": [
        "<div style=\"max-height:1000px;max-width:1500px;overflow:auto;\">\n",
        "<table border=\"1\" class=\"dataframe\">\n",
        "  <thead>\n",
        "    <tr style=\"text-align: right;\">\n",
        "      <th></th>\n",
        "      <th>Rank</th>\n",
        "      <th>Team</th>\n",
        "      <th>Won</th>\n",
        "      <th>Lost</th>\n",
        "      <th>Tied*</th>\n",
        "      <th>Pct.</th>\n",
        "      <th>First Season</th>\n",
        "      <th>Total Games</th>\n",
        "      <th>Conference</th>\n",
        "      <th>Stadium</th>\n",
        "    </tr>\n",
        "  </thead>\n",
        "  <tbody>\n",
        "    <tr>\n",
        "      <th>0</th>\n",
        "      <td> 1</td>\n",
        "      <td>    Dallas Cowboys</td>\n",
        "      <td> 510</td>\n",
        "      <td> 378</td>\n",
        "      <td>  6</td>\n",
        "      <td> 0.574</td>\n",
        "      <td> 1960</td>\n",
        "      <td>  894</td>\n",
        "      <td>  NFC East</td>\n",
        "      <td> 0</td>\n",
        "    </tr>\n",
        "    <tr>\n",
        "      <th>1</th>\n",
        "      <td> 2</td>\n",
        "      <td>     Chicago Bears</td>\n",
        "      <td> 752</td>\n",
        "      <td> 563</td>\n",
        "      <td> 42</td>\n",
        "      <td> 0.570</td>\n",
        "      <td> 1920</td>\n",
        "      <td> 1357</td>\n",
        "      <td> NFC North</td>\n",
        "      <td> 1</td>\n",
        "    </tr>\n",
        "    <tr>\n",
        "      <th>2</th>\n",
        "      <td> 3</td>\n",
        "      <td> Green Bay Packers</td>\n",
        "      <td> 741</td>\n",
        "      <td> 561</td>\n",
        "      <td> 37</td>\n",
        "      <td> 0.567</td>\n",
        "      <td> 1921</td>\n",
        "      <td> 1339</td>\n",
        "      <td> NFC North</td>\n",
        "      <td> 2</td>\n",
        "    </tr>\n",
        "    <tr>\n",
        "      <th>3</th>\n",
        "      <td> 4</td>\n",
        "      <td>    Miami Dolphins</td>\n",
        "      <td> 443</td>\n",
        "      <td> 345</td>\n",
        "      <td>  4</td>\n",
        "      <td> 0.562</td>\n",
        "      <td> 1966</td>\n",
        "      <td>  792</td>\n",
        "      <td>  AFC East</td>\n",
        "      <td> 3</td>\n",
        "    </tr>\n",
        "  </tbody>\n",
        "</table>\n",
        "</div>"
       ],
       "metadata": {},
       "output_type": "pyout",
       "prompt_number": 45,
       "text": [
        "   Rank               Team  Won  Lost  Tied*   Pct.  First Season  \\\n",
        "0     1     Dallas Cowboys  510   378      6  0.574          1960   \n",
        "1     2      Chicago Bears  752   563     42  0.570          1920   \n",
        "2     3  Green Bay Packers  741   561     37  0.567          1921   \n",
        "3     4     Miami Dolphins  443   345      4  0.562          1966   \n",
        "\n",
        "   Total Games Conference  Stadium  \n",
        "0          894   NFC East        0  \n",
        "1         1357  NFC North        1  \n",
        "2         1339  NFC North        2  \n",
        "3          792   AFC East        3  "
       ]
      }
     ],
     "prompt_number": 45
    },
    {
     "cell_type": "code",
     "collapsed": false,
     "input": [
      "stadiums = Series([\"Levi's Stadium\",\"AT&T Stadium\"],index=[2,0])\n",
      "stadiums"
     ],
     "language": "python",
     "metadata": {},
     "outputs": [
      {
       "metadata": {},
       "output_type": "pyout",
       "prompt_number": 46,
       "text": [
        "2    Levi's Stadium\n",
        "0      AT&T Stadium\n",
        "dtype: object"
       ]
      }
     ],
     "prompt_number": 46
    },
    {
     "cell_type": "code",
     "collapsed": false,
     "input": [
      "nfl['Stadium'] = stadiums\n",
      "nfl"
     ],
     "language": "python",
     "metadata": {},
     "outputs": [
      {
       "html": [
        "<div style=\"max-height:1000px;max-width:1500px;overflow:auto;\">\n",
        "<table border=\"1\" class=\"dataframe\">\n",
        "  <thead>\n",
        "    <tr style=\"text-align: right;\">\n",
        "      <th></th>\n",
        "      <th>Rank</th>\n",
        "      <th>Team</th>\n",
        "      <th>Won</th>\n",
        "      <th>Lost</th>\n",
        "      <th>Tied*</th>\n",
        "      <th>Pct.</th>\n",
        "      <th>First Season</th>\n",
        "      <th>Total Games</th>\n",
        "      <th>Conference</th>\n",
        "      <th>Stadium</th>\n",
        "    </tr>\n",
        "  </thead>\n",
        "  <tbody>\n",
        "    <tr>\n",
        "      <th>0</th>\n",
        "      <td> 1</td>\n",
        "      <td>    Dallas Cowboys</td>\n",
        "      <td> 510</td>\n",
        "      <td> 378</td>\n",
        "      <td>  6</td>\n",
        "      <td> 0.574</td>\n",
        "      <td> 1960</td>\n",
        "      <td>  894</td>\n",
        "      <td>  NFC East</td>\n",
        "      <td>   AT&amp;T Stadium</td>\n",
        "    </tr>\n",
        "    <tr>\n",
        "      <th>1</th>\n",
        "      <td> 2</td>\n",
        "      <td>     Chicago Bears</td>\n",
        "      <td> 752</td>\n",
        "      <td> 563</td>\n",
        "      <td> 42</td>\n",
        "      <td> 0.570</td>\n",
        "      <td> 1920</td>\n",
        "      <td> 1357</td>\n",
        "      <td> NFC North</td>\n",
        "      <td>            NaN</td>\n",
        "    </tr>\n",
        "    <tr>\n",
        "      <th>2</th>\n",
        "      <td> 3</td>\n",
        "      <td> Green Bay Packers</td>\n",
        "      <td> 741</td>\n",
        "      <td> 561</td>\n",
        "      <td> 37</td>\n",
        "      <td> 0.567</td>\n",
        "      <td> 1921</td>\n",
        "      <td> 1339</td>\n",
        "      <td> NFC North</td>\n",
        "      <td> Levi's Stadium</td>\n",
        "    </tr>\n",
        "    <tr>\n",
        "      <th>3</th>\n",
        "      <td> 4</td>\n",
        "      <td>    Miami Dolphins</td>\n",
        "      <td> 443</td>\n",
        "      <td> 345</td>\n",
        "      <td>  4</td>\n",
        "      <td> 0.562</td>\n",
        "      <td> 1966</td>\n",
        "      <td>  792</td>\n",
        "      <td>  AFC East</td>\n",
        "      <td>            NaN</td>\n",
        "    </tr>\n",
        "  </tbody>\n",
        "</table>\n",
        "</div>"
       ],
       "metadata": {},
       "output_type": "pyout",
       "prompt_number": 47,
       "text": [
        "   Rank               Team  Won  Lost  Tied*   Pct.  First Season  \\\n",
        "0     1     Dallas Cowboys  510   378      6  0.574          1960   \n",
        "1     2      Chicago Bears  752   563     42  0.570          1920   \n",
        "2     3  Green Bay Packers  741   561     37  0.567          1921   \n",
        "3     4     Miami Dolphins  443   345      4  0.562          1966   \n",
        "\n",
        "   Total Games Conference         Stadium  \n",
        "0          894   NFC East    AT&T Stadium  \n",
        "1         1357  NFC North             NaN  \n",
        "2         1339  NFC North  Levi's Stadium  \n",
        "3          792   AFC East             NaN  "
       ]
      }
     ],
     "prompt_number": 47
    },
    {
     "cell_type": "code",
     "collapsed": false,
     "input": [
      "del nfl['Stadium']\n",
      "nfl"
     ],
     "language": "python",
     "metadata": {},
     "outputs": [
      {
       "html": [
        "<div style=\"max-height:1000px;max-width:1500px;overflow:auto;\">\n",
        "<table border=\"1\" class=\"dataframe\">\n",
        "  <thead>\n",
        "    <tr style=\"text-align: right;\">\n",
        "      <th></th>\n",
        "      <th>Rank</th>\n",
        "      <th>Team</th>\n",
        "      <th>Won</th>\n",
        "      <th>Lost</th>\n",
        "      <th>Tied*</th>\n",
        "      <th>Pct.</th>\n",
        "      <th>First Season</th>\n",
        "      <th>Total Games</th>\n",
        "      <th>Conference</th>\n",
        "    </tr>\n",
        "  </thead>\n",
        "  <tbody>\n",
        "    <tr>\n",
        "      <th>0</th>\n",
        "      <td> 1</td>\n",
        "      <td>    Dallas Cowboys</td>\n",
        "      <td> 510</td>\n",
        "      <td> 378</td>\n",
        "      <td>  6</td>\n",
        "      <td> 0.574</td>\n",
        "      <td> 1960</td>\n",
        "      <td>  894</td>\n",
        "      <td>  NFC East</td>\n",
        "    </tr>\n",
        "    <tr>\n",
        "      <th>1</th>\n",
        "      <td> 2</td>\n",
        "      <td>     Chicago Bears</td>\n",
        "      <td> 752</td>\n",
        "      <td> 563</td>\n",
        "      <td> 42</td>\n",
        "      <td> 0.570</td>\n",
        "      <td> 1920</td>\n",
        "      <td> 1357</td>\n",
        "      <td> NFC North</td>\n",
        "    </tr>\n",
        "    <tr>\n",
        "      <th>2</th>\n",
        "      <td> 3</td>\n",
        "      <td> Green Bay Packers</td>\n",
        "      <td> 741</td>\n",
        "      <td> 561</td>\n",
        "      <td> 37</td>\n",
        "      <td> 0.567</td>\n",
        "      <td> 1921</td>\n",
        "      <td> 1339</td>\n",
        "      <td> NFC North</td>\n",
        "    </tr>\n",
        "    <tr>\n",
        "      <th>3</th>\n",
        "      <td> 4</td>\n",
        "      <td>    Miami Dolphins</td>\n",
        "      <td> 443</td>\n",
        "      <td> 345</td>\n",
        "      <td>  4</td>\n",
        "      <td> 0.562</td>\n",
        "      <td> 1966</td>\n",
        "      <td>  792</td>\n",
        "      <td>  AFC East</td>\n",
        "    </tr>\n",
        "  </tbody>\n",
        "</table>\n",
        "</div>"
       ],
       "metadata": {},
       "output_type": "pyout",
       "prompt_number": 48,
       "text": [
        "   Rank               Team  Won  Lost  Tied*   Pct.  First Season  \\\n",
        "0     1     Dallas Cowboys  510   378      6  0.574          1960   \n",
        "1     2      Chicago Bears  752   563     42  0.570          1920   \n",
        "2     3  Green Bay Packers  741   561     37  0.567          1921   \n",
        "3     4     Miami Dolphins  443   345      4  0.562          1966   \n",
        "\n",
        "   Total Games Conference  \n",
        "0          894   NFC East  \n",
        "1         1357  NFC North  \n",
        "2         1339  NFC North  \n",
        "3          792   AFC East  "
       ]
      }
     ],
     "prompt_number": 48
    },
    {
     "cell_type": "code",
     "collapsed": false,
     "input": [
      "data = {'City':['SF','LA','NYC'],\n",
      "        'Population':[837000,3880000,8400000]}\n",
      "\n",
      "city=DataFrame(data)\n",
      "\n",
      "city"
     ],
     "language": "python",
     "metadata": {},
     "outputs": [
      {
       "html": [
        "<div style=\"max-height:1000px;max-width:1500px;overflow:auto;\">\n",
        "<table border=\"1\" class=\"dataframe\">\n",
        "  <thead>\n",
        "    <tr style=\"text-align: right;\">\n",
        "      <th></th>\n",
        "      <th>City</th>\n",
        "      <th>Population</th>\n",
        "    </tr>\n",
        "  </thead>\n",
        "  <tbody>\n",
        "    <tr>\n",
        "      <th>0</th>\n",
        "      <td>  SF</td>\n",
        "      <td>  837000</td>\n",
        "    </tr>\n",
        "    <tr>\n",
        "      <th>1</th>\n",
        "      <td>  LA</td>\n",
        "      <td> 3880000</td>\n",
        "    </tr>\n",
        "    <tr>\n",
        "      <th>2</th>\n",
        "      <td> NYC</td>\n",
        "      <td> 8400000</td>\n",
        "    </tr>\n",
        "  </tbody>\n",
        "</table>\n",
        "</div>"
       ],
       "metadata": {},
       "output_type": "pyout",
       "prompt_number": 49,
       "text": [
        "  City  Population\n",
        "0   SF      837000\n",
        "1   LA     3880000\n",
        "2  NYC     8400000"
       ]
      }
     ],
     "prompt_number": 49
    },
    {
     "cell_type": "code",
     "collapsed": false,
     "input": [
      "#For full list of ways to create DataFrames from various sources go to teh documentation for pandas:\n",
      "website = 'http://pandas.pydata.org/pandas-docs/dev/generated/pandas.DataFrame.html'\n",
      "webbrowser.open(website)"
     ],
     "language": "python",
     "metadata": {},
     "outputs": [
      {
       "metadata": {},
       "output_type": "pyout",
       "prompt_number": 50,
       "text": [
        "True"
       ]
      }
     ],
     "prompt_number": 50
    },
    {
     "cell_type": "markdown",
     "metadata": {},
     "source": [
      "#Lecture 3"
     ]
    },
    {
     "cell_type": "code",
     "collapsed": false,
     "input": [],
     "language": "python",
     "metadata": {},
     "outputs": []
    },
    {
     "cell_type": "code",
     "collapsed": false,
     "input": [],
     "language": "python",
     "metadata": {},
     "outputs": []
    }
   ],
   "metadata": {}
  }
 ]
}