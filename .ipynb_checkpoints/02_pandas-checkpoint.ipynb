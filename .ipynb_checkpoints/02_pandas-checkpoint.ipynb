{
 "metadata": {
  "name": "",
  "signature": "sha256:4931b0be0fcd312759e423e9fd11c2ab14196eb74b0ba9e2b438554a0940e3ec"
 },
 "nbformat": 3,
 "nbformat_minor": 0,
 "worksheets": []
}